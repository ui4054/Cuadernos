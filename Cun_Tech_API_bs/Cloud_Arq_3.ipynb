{
 "cells": [
  {
   "cell_type": "markdown",
   "metadata": {},
   "source": [
    "# 📒 Cuaderno 2: Estructuras de datos en JavaScript\n",
    "\n",
    "En este cuaderno veremos cómo manejar colecciones de datos en JavaScript:  \n",
    "- **Arrays**  \n",
    "- **Objetos literales**  \n",
    "- **Diccionarios (objetos clave/valor)**  \n",
    "- **JSON**  \n",
    "\n",
    "Al final construiremos una pequeña **agenda de contactos en memoria**.\n",
    "\n",
    "## 🧺 Arrays\n",
    "\n",
    "Un **array** es una lista ordenada de elementos.\n",
    "\n",
    "### Crear un array\n",
    "\n",
    "```javascript\n",
    "let frutas = [\"manzana\", \"pera\", \"magoo\"];\n",
    "console.log(frutas);\n"
   ]
  },
  {
   "cell_type": "markdown",
   "metadata": {},
   "source": [
    "### Métodos básicos: push, pop, shift, unshift\n",
    "- `push()` → agrega al final  \n",
    "- `pop()` → elimina el último  \n",
    "- `unshift()` → agrega al inicio  \n",
    "- `shift()` → elimina el primero  \n",
    "\n",
    "```javascript\n",
    "let numeros = [1, 2, 3];\n",
    "numeros.push(4);       // [1,2,3,4]\n",
    "numeros.pop();         // [1,2,3]\n",
    "numeros.unshift(0);    // [0,1,2,3]\n",
    "numeros.shift();       // [1,2,3]\n",
    "\n",
    "console.log(numeros);\n"
   ]
  },
  {
   "cell_type": "markdown",
   "metadata": {},
   "source": [
    "### Recorrido con `map`, `filter`, `reduce`\n",
    "\n",
    "\n",
    "```javascript\n",
    "let edades = [15, 18, 20, 25];\n",
    "\n",
    "// map: transforma cada elemento\n",
    "let dobles = edades.map(x => x * 2);\n",
    "console.log(\"Map:\", dobles);\n",
    "\n",
    "// filter: filtra elementos según condición\n",
    "let mayores = edades.filter(x => x >= 18);\n",
    "console.log(\"Filter:\", mayores);\n",
    "\n",
    "// reduce: acumula valores en uno solo\n",
    "let suma = edades.reduce((acc, val) => acc + val, 0);\n",
    "console.log(\"Reduce (suma):\", suma);\n"
   ]
  },
  {
   "cell_type": "markdown",
   "metadata": {},
   "source": [
    "## 📦 Objetos literales\n",
    "\n",
    "Un objeto es una colección de propiedades (clave: valor).\n",
    "\n",
    "\n",
    "```javascript\n",
    "let persona = {\n",
    "    nombre: \"Ana\",\n",
    "    edad: 28,\n",
    "    ciudad: \"Bogotá\"\n",
    "};\n",
    "\n",
    "console.log(persona);\n",
    "\n",
    "// acceso a propiedades\n",
    "console.log(persona.nombre);\n",
    "console.log(persona[\"edad\"]);\n",
    "\n",
    "// modificación\n",
    "persona.edad = 29;\n",
    "persona.profesion = \"Ingeniera\";\n",
    "console.log(persona);\n"
   ]
  },
  {
   "cell_type": "markdown",
   "metadata": {},
   "source": [
    "## 🔑 Diccionarios en JS\n",
    "\n",
    "Los objetos también pueden usarse como **diccionarios**, donde las claves representan categorías o identificadores únicos.\n",
    "\n",
    "\n",
    "```javascript\n",
    "let precios = {\n",
    "    manzana: 1200,\n",
    "    banano: 800,\n",
    "    uva: 2500\n",
    "};\n",
    "\n",
    "console.log(\"Precio manzana:\", precios.manzana);\n",
    "\n",
    "// Agregar nueva clave\n",
    "precios.pera = 1500;\n",
    "\n",
    "// Recorrer claves y valores\n",
    "for (let fruta in precios) {\n",
    "    console.log(fruta, \"→\", precios[fruta]);\n",
    "}\n"
   ]
  },
  {
   "cell_type": "markdown",
   "metadata": {},
   "source": [
    "## 📜 JSON (JavaScript Object Notation)\n",
    "\n",
    "Es un formato de texto ligero para intercambio de datos.\n",
    "\n",
    "- `JSON.stringify(objeto)` → convierte objeto en texto JSON  \n",
    "- `JSON.parse(texto)` → convierte texto JSON en objeto  \n",
    "\n",
    "```javascript\n",
    "let usuario = { nombre: \"Carlos\", edad: 33 };\n",
    "\n",
    "let jsonStr = JSON.stringify(usuario);\n",
    "console.log(\"Stringify:\", jsonStr);\n",
    "\n",
    "let objeto = JSON.parse(jsonStr);\n",
    "console.log(\"Parse:\", objeto, objeto.nombre);\n"
   ]
  },
  {
   "cell_type": "markdown",
   "metadata": {},
   "source": [
    "## 📝 Ejercicio: Agenda de contactos en memoria ram\n",
    "\n",
    "1. Crear un array vacío `agenda`.  \n",
    "2. Usar `push` para agregar objetos con nombre, teléfono y email.  \n",
    "3. Mostrar todos los contactos con `forEach`.  \n",
    "4. Filtrar contactos por un criterio (ej. que contengan \"gmail\").  \n",
    "\n",
    "\n",
    "```javascript\n",
    "let agenda = [];\n",
    "\n",
    "// Agregar contactos\n",
    "agenda.push({ nombre: \"Ana\", telefono: \"12345\", email: \"ana@gmail.com\" });\n",
    "agenda.push({ nombre: \"Luis\", telefono: \"67890\", email: \"luis@hotmail.com\" });\n",
    "agenda.push({ nombre: \"Marta\", telefono: \"54321\", email: \"marta@gmail.com\" });\n",
    "\n",
    "// Mostrar contactos\n",
    "console.log(\"📒 Agenda:\");\n",
    "agenda.forEach(c => console.log(c.nombre, \"-\", c.telefono, \"-\", c.email));\n",
    "\n",
    "// Filtrar contactos de Gmail\n",
    "let gmail = agenda.filter(c => c.email.includes(\"gmail\"));\n",
    "console.log(\"📧 Contactos con Gmail:\", gmail);\n",
    "\n"
   ]
  }
 ],
 "metadata": {
  "language_info": {
   "name": "python"
  }
 },
 "nbformat": 4,
 "nbformat_minor": 2
}
