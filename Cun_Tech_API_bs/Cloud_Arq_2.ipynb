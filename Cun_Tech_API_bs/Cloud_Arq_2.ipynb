{
 "cells": [
  {
   "cell_type": "markdown",
   "metadata": {},
   "source": [
    "# 📘 Cuaderno 2: Fundamentos de JavaScript\n",
    "\n",
    "En este cuaderno aprenderemos los conceptos básicos de JavaScript, usando **Node.js** como entorno de ejecución.  \n",
    "Iremos paso a paso con ejemplos prácticos para entender las bases del lenguaje.\n",
    "\n",
    "---\n",
    "\n",
    "## ⚙️ Configuración del entorno\n",
    "\n",
    "1. Instala [Node.js](https://nodejs.org/) (recomendado versión LTS).  \n",
    "2. Verifica instalación en la terminal:\n",
    "\n",
    "```bash\n",
    "node -v\n",
    "npm -v\n",
    "\n",
    "npm init -y\n",
    "npm install express\n"
   ]
  },
  {
   "cell_type": "markdown",
   "metadata": {
    "vscode": {
     "languageId": "plaintext"
    }
   },
   "source": [
    "\n",
    "## 🖥️ Entrada y salida (Input/Output)\n",
    "\n",
    "En Node.js podemos usar `console.log` para mostrar información en pantalla.  \n",
    "Para recibir entrada desde consola, instalamos la librería `prompt-sync`.\n",
    "\n",
    "```bash\n",
    "npm install prompt-sync\n",
    "\n",
    "const prompt = require(\"prompt-sync\")();\n",
    "\n",
    "console.log(\"Hola, soy tu primer programa en JavaScript!\");\n",
    "const nombre = prompt(\"¿Cómo te llamas? \");\n",
    "console.log(\"Encantado de conocerte, \" + nombre + \"!\");"
   ]
  },
  {
   "cell_type": "markdown",
   "metadata": {},
   "source": [
    "## 🔤 Tipos de datos primitivos\n",
    "\n",
    "JavaScript tiene varios tipos básicos:\n",
    "\n",
    "- `string` → texto  \n",
    "- `number` → números (enteros y decimales)  \n",
    "- `boolean` → verdadero o falso  \n",
    "- `null` → valor vacío intencional  \n",
    "- `undefined` → valor no definido  \n",
    "\n",
    "Ejemplo:\n",
    "\n",
    "\n",
    "```javascript\n",
    "let texto = \"Hola mundo\";   // string\n",
    "let edad = 25;              // number\n",
    "let esMayor = true;         // boolean\n",
    "let nada = null;            // null\n",
    "let indefinido;             // undefined\n",
    "\n",
    "console.log(typeof texto, texto);\n",
    "console.log(typeof edad, edad);\n",
    "console.log(typeof esMayor, esMayor);\n",
    "console.log(typeof nada, nada);\n",
    "console.log(typeof indefinido, indefinido);\n",
    "\n"
   ]
  },
  {
   "cell_type": "markdown",
   "metadata": {},
   "source": [
    "## ➕ Operadores básicos\n",
    "\n",
    "Podemos realizar operaciones aritméticas y lógicas:\n",
    "\n",
    "- `+`, `-`, `*`, `/`, `%` → aritméticos  \n",
    "- `==`, `!=`, `===`, `!==` → comparación  \n",
    "- `&&`, `||`, `!` → lógicos  \n",
    "\n",
    "Ejemplo:\n",
    "\n",
    "```javascript\n",
    "let a = 10, b = 3;\n",
    "\n",
    "console.log(\"Suma:\", a + b);\n",
    "console.log(\"Resta:\", a - b);\n",
    "console.log(\"Multiplicación:\", a * b);\n",
    "console.log(\"División:\", a / b);\n",
    "console.log(\"Módulo:\", a % b);\n",
    "\n",
    "console.log(\"¿a es mayor que b?\", a > b);\n",
    "console.log(\"¿a igual a '10'?\", a == \"10\");   // compara valor\n",
    "console.log(\"¿a estrictamente igual a '10'?\", a === \"10\"); // compara valor y tipo\n"
   ]
  },
  {
   "cell_type": "markdown",
   "metadata": {},
   "source": [
    "## 🔀 Condicionales\n",
    "\n",
    "Con `if`, `else if`, `else` podemos tomar decisiones.\n",
    "\n",
    "Ejemplo:\n",
    "\n",
    "```javascript\n",
    "const prompt = require(\"prompt-sync\")();\n",
    "\n",
    "let edad = parseInt(prompt(\"Ingrese su edad: \"));\n",
    "\n",
    "if (edad >= 18) {\n",
    "    console.log(\"Eres mayor de edad.\");\n",
    "} else if (edad >= 13) {\n",
    "    console.log(\"Eres adolescente.\");\n",
    "} else {\n",
    "    console.log(\"Eres niño.\");\n",
    "}\n"
   ]
  },
  {
   "cell_type": "markdown",
   "metadata": {},
   "source": [
    "\n",
    "## 🔁 Ciclos\n",
    "\n",
    "Podemos repetir instrucciones con bucles.\n",
    "\n",
    "### For \n",
    "\n",
    "\n",
    "```javascript\n",
    "for (let i = 0; i < 5; i++) {\n",
    "    console.log(\"Iteración número:\", i);\n",
    "}\n"
   ]
  },
  {
   "cell_type": "markdown",
   "metadata": {},
   "source": [
    "### While\n",
    "\n",
    "```javascript\n",
    "let contador = 0;\n",
    "while (contador < 3) {\n",
    "    console.log(\"Contador:\", contador);\n",
    "    contador++;\n",
    "}\n"
   ]
  },
  {
   "cell_type": "markdown",
   "metadata": {},
   "source": [
    "### Foreach\n",
    "\n",
    "```javascript\n",
    "\n",
    "let frutas = [\"manzana\", \"pera\", \"mangostino\"];\n",
    "frutas.forEach((fruta, index) => {\n",
    "    console.log(index, fruta);\n",
    "});\n",
    "\n"
   ]
  },
  {
   "cell_type": "markdown",
   "metadata": {},
   "source": [
    "## 🛠️ Funciones\n",
    "\n",
    "Podemos definir funciones de varias formas:\n",
    "\n",
    "### Declaración normal\n",
    "\n",
    "```javascript\n",
    "function saludar(nombre) {\n",
    "    return \"Hola, \" + nombre + \"!\";\n",
    "}\n",
    "\n",
    "console.log(saludar(\"Pon tu Nombre\"));\n"
   ]
  },
  {
   "cell_type": "markdown",
   "metadata": {},
   "source": [
    "## 👉 Arrow function\n",
    "\n",
    "```javascript\n",
    "const cuadrado = (x) => x * x;\n",
    "console.log(cuadrado(5)); // llamar la función\n"
   ]
  },
  {
   "cell_type": "markdown",
   "metadata": {},
   "source": [
    "## ✅ Ejercicio propuesto\n",
    "\n",
    "1. Escribe un programa que pida el nombre y la edad de una persona.  \n",
    "2. Si es mayor de edad, muestra `\"Bienvenido al sistema\"`de lo contrario, muestra `\"Acceso denegado\"`.  \n",
    "3. Crear una tabla de multiplicar para un número n.\n",
    "4. Crear un menú para una máquina de helados que integre una opción para salir o hacer otro pedido.\n",
    "5. Crar un algoritmo para seleccionar el mayor de 5 números.\n",
    "\n",
    "\n"
   ]
  }
 ],
 "metadata": {
  "language_info": {
   "name": "python"
  }
 },
 "nbformat": 4,
 "nbformat_minor": 2
}
