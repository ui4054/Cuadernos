{
 "cells": [
  {
   "cell_type": "markdown",
   "metadata": {},
   "source": [
    "# Cuarderno 0: Fundamentos del Cliente Web\n",
    "\n",
    "El objetivo de esta semana es que entiendan que una página web es el \"cliente\" más común que consume una API. Deben comprender cómo se construye y cómo funciona esa interfaz antes de pedirle datos a un servidor.\n",
    "\n",
    "**Analogía de la semana:**\n",
    "*   **HTML:** Es el **esqueleto** de una persona. Define la estructura.\n",
    "*   **CSS:** Es la **ropa y el estilo**. Define cómo se ve.\n",
    "*   **JavaScript:** Es el **sistema nervioso y los músculos**. Permite que reaccione y haga cosas.\n",
    "\n",
    "---\n",
    "\n",
    "## 1. HTML (HyperText Markup Language): El Esqueleto\n",
    "\n",
    "**Concepto Central:** HTML no es un lenguaje de programación, es un lenguaje de **marcado**. Su única función es dar **estructura semántica** al contenido.\n",
    "\n",
    "#### Puntos Clave:\n",
    "*   **¿Para qué sirve?** Le dice al navegador qué es un título (`<h1>`), un párrafo (`<p>`), una lista (`<ul>`), etc.\n",
    "*   **Estructura Básica:** Todo documento tiene `<html>`, `<head>` (lo no visible) y `<body>` (el contenido visible).\n",
    "*   **El DOM (Document Object Model):** Es la representación del HTML en memoria como un árbol de objetos. **JavaScript manipula este DOM**, no el archivo HTML directamente.\n",
    "\n",
    "> **Conexión con APIs:** Cuando una API nos devuelve datos, usamos HTML para crear la estructura donde los mostraremos (por ejemplo, una fila `<tr>` en una tabla por cada dato recibido).\n",
    "\n",
    "---\n",
    "\n",
    "## 2. CSS (Cascading Style Sheets): El Estilo\n",
    "\n",
    "**Concepto Central:** CSS es un lenguaje de **hojas de estilo**. Separa el contenido (HTML) de la presentación (CSS).\n",
    "\n",
    "#### Puntos Clave:\n",
    "*   **Sintaxis:** Se basa en `selector { propiedad: valor; }`. Por ejemplo: `h1 { color: blue; }`.\n",
    "*   **Modelo de Caja (Box Model):** Todo elemento es una caja con contenido, relleno (`padding`), borde (`border`) y margen (`margin`). Es fundamental para el diseño.\n",
    "\n",
    "> **Conexión con APIs:** Usamos CSS para dar un significado visual a los datos recibidos. Si el estado de un pedido es \"Entregado\", lo ponemos en verde. Si es \"Cancelado\", en rojo.\n",
    "\n",
    "---\n",
    "\n",
    "## 3. JavaScript: La Interactividad y el Cerebro\n",
    "\n",
    "**Concepto Central:** JavaScript **SÍ** es un lenguaje de programación. Le da comportamiento e interactividad a la página.\n",
    "\n",
    "#### Puntos Clave:\n",
    "*   **¿Qué hace?** Manipula el DOM, reacciona a eventos (clics, etc.) y, lo más importante para nosotros, **hace peticiones a servidores para obtener datos**.\n",
    "*   **Asincronía:** Pedir datos a un servidor toma tiempo. JavaScript no se bloquea esperando. Usa un mecanismo llamado **Promesas**.\n",
    "*   **`fetch()`:** Es la función moderna de JavaScript para hacer estas peticiones de red (HTTP) a las APIs.\n",
    "\n",
    "> **Conexión con APIs (¡La más importante!):**\n",
    "> 1.  Un **evento** ocurre (clic en un botón).\n",
    "> 2.  **JavaScript** usa `fetch()` para pedir datos a una API.\n",
    "> 3.  La API responde (normalmente con datos en formato JSON).\n",
    "> 4.  **JavaScript** recibe los datos y **manipula el DOM** para mostrarlos en el HTML.\n",
    "> 5.  **CSS** se encarga de que se vean bien.\n",
    "---"
   ]
  },
  {
   "cell_type": "markdown",
   "metadata": {},
   "source": [
    "## 4 Crear tu Primera Web en HTML: Paso a Paso\n",
    "\n",
    "### 1. Preparativos\n",
    "- Necesitas un editor de texto como **Visual Studio Code**, **Notepad** o incluso el Bloc de notas.\n",
    "- También necesitas un navegador web como **Chrome**, **Firefox** o **Edge**.\n",
    "\n",
    "> ### 2. Escribir tu Página\n",
    "> 1. Abre tu editor de texto.\n",
    "> 2. Escribe el siguiente código básico de HTML:\n",
    "\n",
    "```html\n",
    "<!DOCTYPE html>\n",
    "<html>\n",
    "    <head>\n",
    "        <title>Mi Primera Web</title>\n",
    "    </head>\n",
    "    <body>\n",
    "        <h1>¡Hola Mundo!</h1>\n",
    "    </body>\n",
    "</html>\n",
    "---"
   ]
  },
  {
   "cell_type": "markdown",
   "metadata": {},
   "source": [
    " ## 5 Ejemplo Básico sin Estilos\n",
    "\n",
    "Aquí tienes un ejemplo más completo de una página HTML sencilla:\n",
    "\n",
    "```html\n",
    "<!DOCTYPE html>\n",
    "<html>\n",
    "    <head>\n",
    "        <title>Mi Página Simple</title>\n",
    "    </head>\n",
    "    <body>\n",
    "        <h1>Bienvenido a mi página</h1>\n",
    "        <p>Este es un ejemplo de una página básica sin estilos.</p>\n",
    "        <a href=\"https://www.google.com\">Ir a Google</a>\n",
    "    </body>\n",
    "</html>    </body>\n",
    "</html>\n",
    "---"
   ]
  },
  {
   "cell_type": "markdown",
   "metadata": {},
   "source": [
    " > ## Retos Simples\n",
    "  \n",
    "  ### Reto 1: Agregar un Encabezado Adicional\n",
    "- Añade un encabezado `<h2>` con un mensaje personalizado.\n",
    "\n",
    "```html\n",
    "    <h2>Subtítulo de Bienvenida</h2>"
   ]
  },
  {
   "cell_type": "markdown",
   "metadata": {},
   "source": [
    "### Reto 2: Crear una Lista\n",
    "- Incluye una lista ordenada o desordenada.\n",
    "\n",
    "```html\n",
    "    <ul>\n",
    "        <li>Primera tarea</li>\n",
    "        <li>Segunda tarea</li>\n",
    "        <li>Tercera tarea</li>\n",
    "    </ul>\n",
    "    ```"
   ]
  },
  {
   "cell_type": "markdown",
   "metadata": {},
   "source": [
    "### Reto 3: Crear un Enlace que Abra en una Nueva Pestaña\n",
    "- Usa el atributo `target =\"_blank\" ` para abrir un enlace en una nueva pestaña.\n",
    "\n",
    "    ```html\n",
    "    <a href=\"https://www.wikipedia.org\" target=\"_blank\">Ir a Wikipedia</a>\n",
    "    ```\n"
   ]
  }
 ],
 "metadata": {
  "language_info": {
   "name": "python"
  }
 },
 "nbformat": 4,
 "nbformat_minor": 2
}
