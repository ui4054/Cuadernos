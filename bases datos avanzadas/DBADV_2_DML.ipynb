{
 "cells": [
  {
   "cell_type": "markdown",
   "id": "2ebd2331-babb-472d-a2cf-8a9f6b74a604",
   "metadata": {},
   "source": [
    "# Lenguaje de Manipulación de Datos (DML) en SQL\n",
    "\n",
    "## 1. SELECT, DISTINCT, BETWEEN\n",
    "\n",
    "### SELECT\n",
    "\n",
    "La sentencia `SELECT` se utiliza para consultar datos de una base de datos. Es una de las sentencias más utilizadas en SQL.\n",
    "\n",
    "#### Sintaxis:\n",
    "\n",
    "```sql\n",
    "SELECT columna1, columna2, ...\n",
    "FROM tabla;"
   ]
  },
  {
   "cell_type": "markdown",
   "id": "9abeabef-cac3-4820-8115-d99e3d521780",
   "metadata": {},
   "source": [
    "### DISTINCT \n",
    "\n",
    "La palabra clave `DISTINCT` se utiliza en la sentencia `SELECT` para devolver solo valores distintos (diferentes). Esto elimina los duplicados en los resultados. \n",
    "\n",
    "#### Sintaxis:\n",
    "\n",
    "```sql\n",
    "SELECT DISTINCT columna1, columna2, ...\n",
    "FROM tabla;"
   ]
  },
  {
   "cell_type": "markdown",
   "id": "db69000a-0e08-49a7-a2a8-f226115164ac",
   "metadata": {},
   "source": [
    "### BETWEEN \n",
    "\n",
    "El operador `BETWEEN` se utiliza para filtrar los resultados dentro de un rango específico de valores. Este operador puede ser utilizado con números, textos o fechas. \n",
    "\n",
    "#### Sintaxis:\n",
    "```sql\n",
    "    SELECT columna1, columna2, ...\n",
    "    FROM table\n",
    "    WHERE columna BETWEEN valor1 AND valor2;"
   ]
  },
  {
   "cell_type": "markdown",
   "id": "f1a56adf-40f2-455b-aa68-3ed2a2cc0e72",
   "metadata": {},
   "source": [
    "## EJEMPLO\n",
    "\n",
    "\n",
    "| id | nombre | edad | ciudad    |\n",
    "|----|--------|------|-----------|\n",
    "| 1  | Juan   | 20   | Madrid    |\n",
    "| 2  | María  | 22   | Barcelona |\n",
    "| 3  | Pedro  | 18   | Valencia  |\n",
    "| 4  | Ana    | 21   | Madrid    |\n",
    "| 5  | Luis   | 23   | Sevilla   |\n",
    "\n"
   ]
  },
  {
   "cell_type": "markdown",
   "id": "914589b7-9eda-47db-b423-750b92290118",
   "metadata": {},
   "source": [
    "```sql\n",
    "\n",
    "SELECT nombre, edad\n",
    "FROM estudiantes\n",
    "WHERE edad BETWEEN 18 AND 22;\n",
    "\n",
    "| nombre | edad |\n",
    "|--------|------|\n",
    "| Juan   | 20   |\n",
    "| María  | 22   |\n",
    "| Pedro  | 18   |\n",
    "| Ana    | 21   |"
   ]
  },
  {
   "cell_type": "markdown",
   "id": "418627c9-2794-4db4-acc9-89c311452c4c",
   "metadata": {},
   "source": [
    "```sql\n",
    "SELECT DISTINCT ciudad\n",
    "FROM estudiantes;\n",
    "\n",
    "| ciudad    |\n",
    "|-----------|\n",
    "| Madrid    |\n",
    "| Barcelona |\n",
    "| Valencia  |\n",
    "| Sevilla   |"
   ]
  }
 ],
 "metadata": {
  "kernelspec": {
   "display_name": "Python 3 (ipykernel)",
   "language": "python",
   "name": "python3"
  },
  "language_info": {
   "codemirror_mode": {
    "name": "ipython",
    "version": 3
   },
   "file_extension": ".py",
   "mimetype": "text/x-python",
   "name": "python",
   "nbconvert_exporter": "python",
   "pygments_lexer": "ipython3",
   "version": "3.11.7"
  }
 },
 "nbformat": 4,
 "nbformat_minor": 5
}
