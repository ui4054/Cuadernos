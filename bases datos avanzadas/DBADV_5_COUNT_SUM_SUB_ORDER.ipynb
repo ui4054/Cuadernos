{
 "cells": [
  {
   "cell_type": "markdown",
   "id": "e031cd4e-18ae-4b5d-a1fc-7937b5dbeb06",
   "metadata": {},
   "source": [
    "# Consultas en SQL Server\n",
    "\n",
    "## 1. Funciones de Agregación: COUNT, SUM, GROUP BY, ORDER BY\n",
    "\n",
    "#### Ejemplo:\n",
    "Queremos obtener el total de productos vendidos en todas las facturas:\n",
    "\n",
    "```sql\n",
    "\n",
    "--COUNT\n",
    "SELECT COUNT(can_prod) AS total_productos\n",
    "FROM factura;\n",
    "\n",
    "--SUM\n",
    "SELECT SUM(can_prod) AS total_productos\n",
    "FROM factura;\n",
    "\n",
    "-- GROUPBY\n",
    "SELECT cliente.nom_clien, SUM(factura.can_prod) AS total_productos\r\n",
    "FROM clienteWHERE cliente.id_cliente = factura.id_clieie\r\n",
    "GROUP BY cliente.nom_cli\n",
    "\n",
    "-- ORDER BY\n",
    "SELECT cliente.nom_clien, SUM(factura.can_prod) AS total_productos\n",
    "FROM cliente \n",
    "WHERE cliente.id_cliente = factura.id_clie\n",
    "GROUP BY cliente.nom_clien\n",
    "ORDER BY total_productos DESC;\n",
    "en;\r\n"
   ]
  },
  {
   "cell_type": "markdown",
   "id": "4fdca245-a5ad-4e4f-8789-7395a35ba3cb",
   "metadata": {},
   "source": [
    "## 2. Subconsultas\n",
    "Las subconsultas son consultas anidadas dentro de otras consultas. Son útiles cuando necesitas usar el resultado de una consulta como entrada para otra.\n",
    "\n",
    "### Ejemplo:\n",
    "Obtener los clientes que han realizado compras cuyo total sea mayor que 5000:\n",
    "\n",
    "```sql\n",
    "SELECT nom_clien, ape_clien\n",
    "FROM cliente\n",
    "WHERE id_cliente IN (\n",
    "    SELECT id_clie\n",
    "    FROM factura\n",
    "    WHERE total_prod > 5000\n",
    ");\n",
    "\n",
    "SELECT nom_clien, ape_clien, \n",
    "       (SELECT COUNT(DISTINCT id_prod)\n",
    "        FROM detalle_fac\n",
    "        INNER JOIN factura ON factura.id_fac = detalle_fac.id_Fact\n",
    "        WHERE factura.id_clie = cliente.id_cliente) AS productos_comprados\n",
    "FROM cliente\n",
    "ORDER BY productos_comprados DESC;"
   ]
  },
  {
   "cell_type": "code",
   "execution_count": null,
   "id": "3a0aacb1-5d75-4a85-b74f-cf4bdf653c92",
   "metadata": {},
   "outputs": [],
   "source": []
  },
  {
   "cell_type": "code",
   "execution_count": null,
   "id": "29328cd0-6545-479d-a045-cb07d8602524",
   "metadata": {},
   "outputs": [],
   "source": []
  }
 ],
 "metadata": {
  "kernelspec": {
   "display_name": "Python 3 (ipykernel)",
   "language": "python",
   "name": "python3"
  },
  "language_info": {
   "codemirror_mode": {
    "name": "ipython",
    "version": 3
   },
   "file_extension": ".py",
   "mimetype": "text/x-python",
   "name": "python",
   "nbconvert_exporter": "python",
   "pygments_lexer": "ipython3",
   "version": "3.11.9"
  }
 },
 "nbformat": 4,
 "nbformat_minor": 5
}
