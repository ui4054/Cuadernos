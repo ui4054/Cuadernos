{
 "cells": [
  {
   "cell_type": "markdown",
   "id": "de234b8c-2df2-4374-a2b0-1300180157da",
   "metadata": {},
   "source": [
    "# Lenguaje de Manipulación de Datos (DML) en SQL\n",
    "\n",
    "## 2. LIKE, IS NULL, AND, OR, NOT, UNION\n",
    "\n",
    "### LIKE\n",
    "\n",
    "El operador `LIKE` se utiliza en una cláusula `WHERE` para buscar un patrón específico en una columna.\n",
    "\n",
    "#### Sintaxis:\n",
    "\n",
    "```sql\n",
    "SELECT columna1, columna2, ...\n",
    "FROM tabla\n",
    "WHERE columna LIKE patrón;"
   ]
  },
  {
   "cell_type": "markdown",
   "id": "8d4246a8-f1d5-4341-bd4c-965c8de9b954",
   "metadata": {},
   "source": [
    "## EJEMPLO\n",
    "\n",
    "\n",
    "| id | nombre | edad | ciudad    |\n",
    "|----|--------|------|-----------|\n",
    "| 1  | Juan   | 20   | Madrid    |\n",
    "| 2  | María  | 22   | Barcelona |\n",
    "| 3  | Pedro  | 18   | Valencia  |\n",
    "| 4  | Ana    | 21   | Madrid    |\n",
    "| 5  | Luis   | 23   | Sevilla   |\n"
   ]
  },
  {
   "cell_type": "markdown",
   "id": "5c5ff2e4-57b6-4e78-9f5e-7b0ef4ea4f2a",
   "metadata": {},
   "source": [
    "## Operador LIKE %\n",
    "### Supongamos que queremos seleccionar todos los estudiantes cuyos nombres comienzan con la letra 'M'\n",
    "\n",
    "```sql\n",
    "SELECT nombre, edad\n",
    "FROM estudiantes\n",
    "WHERE nombre LIKE 'M%';\n",
    "\n",
    "| nombre | edad |\n",
    "|--------|------|\n",
    "| María  | 22   |"
   ]
  },
  {
   "cell_type": "markdown",
   "id": "fc5e4b36-e63f-41f4-86e9-d510fbc214b2",
   "metadata": {},
   "source": [
    "## Operador OR \n",
    "\n",
    "### El operador `OR` se utiliza para combinar múltiples condiciones en una cláusula `WHERE`. Al menos una de las condiciones debe ser verdadera para que se seleccionen los registros.\n",
    "### Queremos seleccionar todos los estudiantes que viven en Madrid o tienen 22 años.\n",
    "\n",
    "```sql\n",
    "\n",
    "SELECT nombre, edad\n",
    "FROM estudiantes\n",
    "WHERE ciudad = 'Madrid' OR edad = 22;\n",
    "\n",
    "| nombre | edad |\n",
    "|--------|------|\n",
    "| Juan   | 20   |\n",
    "| María  | 22   |\n",
    "| Ana    | 21   |\n"
   ]
  },
  {
   "cell_type": "markdown",
   "id": "875d2c5d-b140-4f15-bace-1c67a7f5344e",
   "metadata": {},
   "source": [
    "## Operador NOT\n",
    "\n",
    "### El operador `NOT` se utiliza para excluir registros que cumplen una condición en una cláusula `WHERE`.\n",
    "### Queremos seleccionar todos los estudiantes que no viven en Madrid.\n",
    "\n",
    "```sql\n",
    "SELECT nombre, edad\n",
    "FROM estudiantes\n",
    "WHERE NOT ciudad = 'Madrid';\n",
    "\n",
    "| nombre | edad |\n",
    "|--------|------|\n",
    "| María  | 22   |\n",
    "| Pedro  | 18   |\n",
    "| Luis   | 23   |"
   ]
  },
  {
   "cell_type": "markdown",
   "id": "17fd5367-15b3-44cc-bd6f-105f82574a86",
   "metadata": {},
   "source": [
    "## Operador UNION \n",
    "### El operador `UNION` se utiliza para combinar los resultados de dos o más sentencias `SELECT`. Cada sentencia `SELECT` dentro de `UNION` debe tener el mismo número de columnas en la misma orden y con tipos de datos similares.\n",
    "### Queremos seleccionar todos los estudiantes que no viven en Madrid.\n",
    "\n",
    "```sql\n",
    "\n",
    "SELECT nombre, edad\n",
    "FROM estudiantes\n",
    "UNION\n",
    "SELECT nombre, edad\n",
    "FROM ex_estudiantes;\n",
    "\n",
    "TABLA A UNIR\n",
    "id\tnombre\tedad\tciudad\n",
    "6\tCarlos\t24\tValencia\n",
    "7\tLaura\t25\tSevilla\n",
    "\n",
    "| nombre | edad |\n",
    "|--------|------|\n",
    "| Juan   | 20   |\n",
    "| María  | 22   |\n",
    "| Pedro  | 18   |\n",
    "| Ana    | 21   |\n",
    "| Luis   | 23   |\n",
    "| Carlos | 24   |\n",
    "| Laura  | 25   |\n"
   ]
  },
  {
   "cell_type": "code",
   "execution_count": null,
   "id": "6b2d0036-f208-4bf5-9019-869e4bd5b29b",
   "metadata": {},
   "outputs": [],
   "source": []
  }
 ],
 "metadata": {
  "kernelspec": {
   "display_name": "Python 3 (ipykernel)",
   "language": "python",
   "name": "python3"
  },
  "language_info": {
   "codemirror_mode": {
    "name": "ipython",
    "version": 3
   },
   "file_extension": ".py",
   "mimetype": "text/x-python",
   "name": "python",
   "nbconvert_exporter": "python",
   "pygments_lexer": "ipython3",
   "version": "3.11.7"
  }
 },
 "nbformat": 4,
 "nbformat_minor": 5
}
