{
 "cells": [
  {
   "cell_type": "markdown",
   "id": "bbfefde6-6b8d-44e7-9d98-0a1300f3e09c",
   "metadata": {},
   "source": [
    "\n",
    "# **Conceptos Básicos de Desarrollo Web**\n",
    "\n",
    "Este cuaderno explica los fundamentos clave de desarrollo web utilizados en nuestra plantilla. Exploraremos los conceptos de **HTML**, **CSS**, y diseño **responsive**.\n",
    "\n",
    "\n",
    " ## **1. HTML: Estructura de una Página Web**\n",
    "HTML (HyperText Markup Language) define la estructura de una página web. Aquí se destacan los principales elementos utilizados:\n",
    "\n",
    "**Estructura básica**:\n",
    "```html\n",
    "      <!DOCTYPE html>\n",
    "      <html lang=\"es\">\n",
    "      <head>\n",
    "          <meta charset=\"UTF-8\">\n",
    "          <meta name=\"viewport\" content=\"width=device-width, initial-scale=1.0\">\n",
    "          <title>Mi Página Web</title>\n",
    "      </head>\n",
    "      <body>\n",
    "          <!-- Contenido -->\n",
    "      </body>\n",
    "      </html>\n",
    "```\n",
    "      - **`<!DOCTYPE html>`**: Define el tipo de documento como HTML5.\n",
    "      - **`<html lang=\"es\">`**: Establece el idioma de la página.\n",
    "      - **`<meta charset=\"UTF-8\">`**: Usa UTF-8 para admitir caracteres especiales.\n",
    "      - **`<meta name=\"viewport\">`**: Ajusta la visualización en dispositivos móviles.\n"
   ]
  },
  {
   "cell_type": "markdown",
   "id": "9aec687c-1b58-463b-8770-75a22c6f7505",
   "metadata": {},
   "source": [
    "\n",
    "**Encabezado (`<header>`)**:\n",
    "      Contiene el título del sitio y la navegación.\n",
    "```html\n",
    "      <header>\n",
    "          <h1>Nombre del Sitio</h1>\n",
    "          <nav>\n",
    "              <ul>\n",
    "                  <li><a href=\"#\">Inicio</a></li>\n",
    "                  <li><a href=\"#\">Sobre Nosotros</a></li>\n",
    "                  <li><a href=\"#\">Contacto</a></li>\n",
    "              </ul>\n",
    "          </nav>\n",
    "      </header>\n",
    "```\n",
    "      - **`<nav>`**: Define un menú de navegación.\n",
    "      - **`<ul>` y `<li>`**: Crea una lista de enlaces.\n"
   ]
  },
  {
   "cell_type": "markdown",
   "id": "66cbaf2c-c2a4-4877-82a4-5cc68ba085a3",
   "metadata": {},
   "source": [
    "\n",
    "**Formulario de Contacto (`<form>`)**:\n",
    "      Permite a los usuarios enviar datos.\n",
    "```html\n",
    "      <form action=\"mailto:correo@ejemplo.com\" method=\"post\" enctype=\"text/plain\">\n",
    "          <input type=\"text\" placeholder=\"Nombre\" required>\n",
    "          <input type=\"email\" placeholder=\"Correo\" required>\n",
    "          <textarea placeholder=\"Mensaje\"></textarea>\n",
    "          <button type=\"submit\">Enviar</button>\n",
    "      </form>\n",
    "```\n",
    "- **`action`**: Define dónde se envían los datos.\n",
    "- **`method`**: Especifica el método de envío, como `post`.\n",
    "- **`input` y `textarea`**: Campos para ingresar datos.\n"
   ]
  },
  {
   "cell_type": "markdown",
   "id": "250dd6f0-d57e-4444-bc09-1010b9a6232a",
   "metadata": {},
   "source": [
    "\n",
    "## **2. CSS: Estilo y Diseño**\n",
    "CSS (Cascading Style Sheets) se utiliza para dar estilo a la página web.\n",
    "\n",
    "### **Ejemplo de Código CSS**\n",
    "```css\n",
    "    /* General */\n",
    "    body {\n",
    "        font-family: Arial, sans-serif;\n",
    "        color: #ffffff;\n",
    "        background: url('background.jpg') no-repeat center center fixed;\n",
    "        background-size: cover;\n",
    "    }\n",
    "    header {\n",
    "        background-color: rgba(0, 0, 0, 0.7);\n",
    "        padding: 10px 20px;\n",
    "    }\n",
    "    header h1 {\n",
    "        color: #00bfff;\n",
    "    }\n",
    "```\n",
    "- **`body`**: Establece fuente, color de texto y fondo.\n",
    "- **`header`**: Aplica un fondo semitransparente y espaciado interno.\n",
    "- **`h1`**: Da color al título principal.\n"
   ]
  },
  {
   "cell_type": "markdown",
   "id": "8e48b255-f5ef-4395-8cb1-1b04d74703fe",
   "metadata": {},
   "source": [
    "\n",
    "## **3. Diseño Responsive**\n",
    "El diseño responsive asegura que el sitio sea accesible desde cualquier dispositivo. Usamos media queries para ajustar el diseño:\n",
    "\n",
    "```css\n",
    "    @media (max-width: 768px) {\n",
    "        header h1 {\n",
    "            font-size: 1.5em;\n",
    "        }\n",
    "        header nav ul {\n",
    "            flex-direction: column;\n",
    "            gap: 10px;\n",
    "        }\n",
    "    }\n",
    "```\n",
    "- **`@media`**: Aplica reglas específicas para pantallas de cierto tamaño.\n",
    "- **`flex-direction`**: Cambia la disposición de los elementos.\n"
   ]
  },
  {
   "cell_type": "markdown",
   "id": "55ed245d-dc20-47dd-b330-68160a9ef5ed",
   "metadata": {},
   "source": [
    "\n"
   ]
  },
  {
   "cell_type": "code",
   "execution_count": null,
   "id": "df62eb7e-2da5-4824-bb0c-70ae0003e82a",
   "metadata": {},
   "outputs": [],
   "source": []
  }
 ],
 "metadata": {
  "kernelspec": {
   "display_name": "Python 3 (ipykernel)",
   "language": "python",
   "name": "python3"
  },
  "language_info": {
   "codemirror_mode": {
    "name": "ipython",
    "version": 3
   },
   "file_extension": ".py",
   "mimetype": "text/x-python",
   "name": "python",
   "nbconvert_exporter": "python",
   "pygments_lexer": "ipython3",
   "version": "3.11.9"
  }
 },
 "nbformat": 4,
 "nbformat_minor": 5
}
