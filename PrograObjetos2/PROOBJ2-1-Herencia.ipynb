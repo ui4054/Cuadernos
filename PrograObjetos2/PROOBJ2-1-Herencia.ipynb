{
 "cells": [
  {
   "cell_type": "markdown",
   "id": "03c71906-116c-480e-a9c5-7bd326791803",
   "metadata": {},
   "source": [
    "# Herencia en Programación Orientada a Objetos\n",
    "\n",
    "## Concepto de Herencia\n",
    "\n",
    "La **herencia** es uno de los pilares fundamentales de la Programación Orientada a Objetos (POO). Permite crear nuevas clases basadas en clases existentes, facilitando la reutilización de código y la creación de relaciones jerárquicas entre clases.\n",
    "\n",
    "### Definición\n",
    "\n",
    "La herencia permite que una clase (denominada *subclase* o *clase derivada*) herede atributos y métodos de otra clase (denominada *superclase* o *clase base*). Esto significa que la subclase tiene acceso a las funcionalidades de la superclase, además de poder añadir o sobrescribir funcionalidades específicas.\n",
    "\n",
    "### Beneficios de la Herencia\n",
    "- **Reutilización de Código:** Se evita la duplicación de código al reutilizar los atributos y métodos de una clase existente.\n",
    "- **Mantenimiento:** Al centralizar el código común en una superclase, los cambios se propagan automáticamente a todas las subclases.\n",
    "- **Jerarquía de Clases:** Se pueden definir relaciones jerárquicas entre clases, representando conceptos del mundo real.\n",
    "\n",
    "## Ejemplo Práctico de Herencia\n",
    "\n",
    "Consideremos el siguiente ejemplo en C#:\n",
    "\n",
    "### La clase `Persona` tiene dos atributos, `Nombre` y `Edad`, y un método `Saludar`, que imprime un saludo en la consola. \n",
    "### Clase Base: `Persona`\n",
    "```csharp\n",
    "public class Persona\n",
    "{\n",
    "    public string Nombre { get; set; }\n",
    "    public int Edad { get; set; }\n",
    "\n",
    "    public void Saludar()\n",
    "    {\n",
    "        Console.WriteLine($\"Hola, mi nombre es {Nombre} y tengo {Edad} años.\");\n",
    "    }\n",
    "}\n",
    "\n"
   ]
  },
  {
   "cell_type": "markdown",
   "id": "9375632c-f8d7-4aa8-96ea-9bfa0575bd3c",
   "metadata": {},
   "source": [
    "### La clase `Empleado` hereda de `Persona`. Esto significa que `Empleado` tiene acceso a los atributos `Nombre` y `Edad`, y al método `Saludar` de `Persona`. Además, `Empleado` define su propio atributo `Puesto` y un nuevo método `Trabajar`\n",
    "### Subclase: `Empleado`\n",
    "```csharp\n",
    "public class Empleado : Persona\n",
    "{\n",
    "    public string Puesto { get; set; }\n",
    "\n",
    "    public void Trabajar()\n",
    "    {\n",
    "        Console.WriteLine($\"{Nombre} está trabajando como {Puesto}.\");\n",
    "    }\n",
    "}"
   ]
  },
  {
   "cell_type": "markdown",
   "id": "b3a01edb-0a5f-4cc9-81b2-7a881adc90d4",
   "metadata": {},
   "source": [
    "### Uso de Clases\n",
    "\n",
    "```csharp\n",
    "Empleado empleado = new Empleado();\n",
    "empleado.Nombre = \"Carlos\";\n",
    "empleado.Edad = 30;\n",
    "empleado.Puesto = \"Desarrollador\";\n",
    "\n",
    "empleado.Saludar();  // Llama al método heredado de la clase Persona\n",
    "empleado.Trabajar(); // Llama al método específico de la clase Empleado"
   ]
  },
  {
   "cell_type": "markdown",
   "id": "7dfaf4cd-026d-470f-a05b-bc4fae933f84",
   "metadata": {},
   "source": [
    "# Ejemplo de Herencia: Juego de Rol\n",
    "\n",
    "## Clase Base: `Personaje`\n",
    "\n",
    "En un juego de rol, todos los personajes comparten algunas características básicas, como nombre, nivel, y puntos de vida. Estas características se pueden agrupar en una clase base llamada `Personaje`.\n",
    "\n",
    "```csharp\n",
    "public class Personaje\n",
    "{\n",
    "    public string Nombre { get; set; }\n",
    "    public int Nivel { get; set; }\n",
    "    public int PuntosDeVida { get; set; }\n",
    "\n",
    "    public void Atacar()\n",
    "    {\n",
    "        Console.WriteLine($\"{Nombre} ataca al enemigo.\");\n",
    "    }\n",
    "\n",
    "    public void Defender()\n",
    "    {\n",
    "        Console.WriteLine($\"{Nombre} se defiende del ataque.\");\n",
    "    }\n",
    "}"
   ]
  },
  {
   "cell_type": "markdown",
   "id": "fcf32733-c82b-4490-8d55-4216ff98548a",
   "metadata": {},
   "source": [
    "## Subclases: `Mago`, `Guerrero`, `Bardo`, `Enano`, `Elfo`\n",
    "----\n",
    "Cada tipo de personaje tiene habilidades y atributos únicos que se pueden modelar utilizando subclases que heredan de `Personaje`. \n",
    "\n"
   ]
  },
  {
   "cell_type": "markdown",
   "id": "0354d95a-7146-4fca-a7a1-7cfdce6ad31e",
   "metadata": {},
   "source": [
    "## Subclase: `Mago`\n",
    "```csharp\n",
    "public class Mago : Personaje\n",
    "{\n",
    "    public int PuntosDeMagia { get; set; }\n",
    "\n",
    "    public void LanzarHechizo()\n",
    "    {\n",
    "        Console.WriteLine($\"{Nombre} lanza un hechizo poderoso.\");\n",
    "    }\n",
    "}"
   ]
  },
  {
   "cell_type": "markdown",
   "id": "7bba285b-8ea3-4c73-82ce-719c2fe3589a",
   "metadata": {},
   "source": [
    "## Subclase: `Guerrero`\n",
    "```csharp\n",
    "public class Guerrero : Personaje\n",
    "{\n",
    "    public int Fuerza { get; set; }\n",
    "\n",
    "    public void AtacarConEspada()\n",
    "    {\n",
    "        Console.WriteLine($\"{Nombre} ataca con su espada.\");\n",
    "    }\n",
    "}"
   ]
  },
  {
   "cell_type": "markdown",
   "id": "bd9eb00a-7734-4c29-8f8f-8b3319742003",
   "metadata": {},
   "source": [
    "## Subclase: `Bardo`\n",
    "```csharp\n",
    "public class Bardo : Personaje\n",
    "{\n",
    "    public string Instrumento { get; set; }\n",
    "\n",
    "    public void TocarMusica()\n",
    "    {\n",
    "        Console.WriteLine($\"{Nombre} toca una melodía inspiradora con su {Instrumento}.\");\n",
    "    }\n",
    "}"
   ]
  },
  {
   "cell_type": "markdown",
   "id": "bc7f72d5-3043-4526-bb9c-c47544b3a64f",
   "metadata": {},
   "source": [
    "## Subclase: `Enano`\n",
    "```csharp\n",
    "public class Enano : Guerrero\n",
    "{\n",
    "    public int Resistencia { get; set; }\n",
    "\n",
    "    public void Excavar()\n",
    "    {\n",
    "        Console.WriteLine($\"{Nombre} excava profundamente en la montaña.\");\n",
    "    }\n",
    "}"
   ]
  },
  {
   "cell_type": "markdown",
   "id": "7d10f690-f685-4936-8624-a4ae079576d8",
   "metadata": {},
   "source": [
    "## Subclase: `Enano`\n",
    "```csharp\n",
    "public class Elfo : Personaje\n",
    "{\n",
    "    public int Agilidad { get; set; }\n",
    "\n",
    "    public void DispararFlecha()\n",
    "    {\n",
    "        Console.WriteLine($\"{Nombre} dispara una flecha con gran precisión.\");\n",
    "    }\n",
    "}"
   ]
  },
  {
   "cell_type": "markdown",
   "id": "dfdd6bb2-20c1-4003-9de5-9b4973982028",
   "metadata": {},
   "source": [
    "## Aplicación del código en Main\n",
    "```csharp\n",
    "\n",
    "Mago mago = new Mago();\n",
    "mago.Nombre = \"Gandalf\";\n",
    "mago.Nivel = 20;\n",
    "mago.PuntosDeVida = 100;\n",
    "mago.PuntosDeMagia = 200;\n",
    "mago.LanzarHechizo();\n",
    "\n",
    "Guerrero guerrero = new Guerrero();\n",
    "guerrero.Nombre = \"Conan\";\n",
    "guerrero.Nivel = 15;\n",
    "guerrero.PuntosDeVida = 150;\n",
    "guerrero.Fuerza = 80;\n",
    "guerrero.AtacarConEspada();\n",
    "\n",
    "Bardo bardo = new Bardo();\n",
    "bardo.Nombre = \"Lutero\";\n",
    "bardo.Nivel = 10;\n",
    "bardo.PuntosDeVida = 80;\n",
    "bardo.Instrumento = \"Laúd\";\n",
    "bardo.TocarMusica();\n",
    "\n",
    "Enano enano = new Enano();\n",
    "enano.Nombre = \"Gimli\";\n",
    "enano.Nivel = 12;\n",
    "enano.PuntosDeVida = 130;\n",
    "enano.Fuerza = 70;\n",
    "enano.Resistencia = 90;\n",
    "enano.Excavar();\n",
    "\n",
    "Elfo elfo = new Elfo();\n",
    "elfo.Nombre = \"Legolas\";\n",
    "elfo.Nivel = 18;\n",
    "elfo.PuntosDeVida = 110;\n",
    "elfo.Agilidad = 85;\n",
    "elfo.DispararFlecha();"
   ]
  },
  {
   "cell_type": "code",
   "execution_count": null,
   "id": "3291d1cc-eedf-4554-ae78-2431d446d3bb",
   "metadata": {},
   "outputs": [],
   "source": []
  }
 ],
 "metadata": {
  "kernelspec": {
   "display_name": "Python 3 (ipykernel)",
   "language": "python",
   "name": "python3"
  },
  "language_info": {
   "codemirror_mode": {
    "name": "ipython",
    "version": 3
   },
   "file_extension": ".py",
   "mimetype": "text/x-python",
   "name": "python",
   "nbconvert_exporter": "python",
   "pygments_lexer": "ipython3",
   "version": "3.11.7"
  }
 },
 "nbformat": 4,
 "nbformat_minor": 5
}
