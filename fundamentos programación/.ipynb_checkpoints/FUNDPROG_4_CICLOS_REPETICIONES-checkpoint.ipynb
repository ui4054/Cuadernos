{
 "cells": [
  {
   "cell_type": "markdown",
   "id": "03511acb-d11e-4e38-9ee3-6c74cdf802b2",
   "metadata": {},
   "source": [
    "# Fundamentos de la Programación\n",
    "## Ciclos y Bucles en C#\n",
    "\n",
    "En programación, los ciclos o bucles se utilizan para repetir una secuencia de instrucciones. En C#, los bucles más comunes son: `for`, `while` y `do-while`. A continuación, se presenta un ejemplo para cada tipo de bucle.\n"
   ]
  },
  {
   "cell_type": "code",
   "execution_count": 9,
   "id": "79bd0be9-7518-4ef1-acc2-8a2a0bd49dbe",
   "metadata": {},
   "outputs": [],
   "source": [
    "using Microsoft.DotNet.Interactive;"
   ]
  },
  {
   "cell_type": "markdown",
   "id": "60d4a730-ca23-427c-a18e-873011091ace",
   "metadata": {},
   "source": [
    "\n",
    "## Bucle `for`\n",
    "\n",
    "El bucle `for` se utiliza cuando sabemos de antemano cuántas veces queremos repetir un bloque de código.\n",
    "\n",
    "### Ejemplo: Imprimir los números del 1 al 10\n",
    "### Explicación paso a paso: \n",
    "1. Se declara una variable `i` y se inicializa a 1.\n",
    "2. El bucle se ejecuta mientras `i` sea menor o igual a 10.\n",
    "3. Después de cada iteración, se incrementa `i` en 1.\n",
    "4. Se imprime el valor de `i` en cada iteración.\n",
    "   \n",
    "```csharp\n",
    "using System;\n",
    "\n",
    "class Programa\n",
    "{\n",
    "    static void Main()\n",
    "    {\n",
    "        for (int i = 1; i <= 10; i++)\n",
    "        {\n",
    "            Console.WriteLine(i);\n",
    "        }\n",
    "    }\n",
    "}\n",
    "\n"
   ]
  },
  {
   "cell_type": "markdown",
   "id": "f57668ec-f81e-4769-a440-19000a7e1c50",
   "metadata": {},
   "source": [
    "## Bucle `while`\n",
    "\n",
    "El bucle `while` se utiliza cuando no sabemos cuántas veces queremos repetir un bloque de código y queremos continuar hasta que se cumpla una condición específica.\n",
    "\n",
    "### Ejemplo: Sumar números hasta que el usuario ingrese un número negativo\n",
    "\n",
    "### Explicación paso a paso: \n",
    "1. Se inicializa una variable `suma` en 0.\n",
    "2. Se solicita al usuario que ingrese números.\n",
    "3. Se utiliza un bucle `while` que se ejecuta indefinidamente hasta que se encuentre un `break`.\n",
    "4. Si el número ingresado es negativo, se rompe el bucle.\n",
    "5. Si el número es positivo, se suma a `suma`.\n",
    "6. Finalmente, se imprime la suma total.\n",
    "\n",
    "```csharp\n",
    "using System;\n",
    "\n",
    "\n",
    "        int suma = 0;\n",
    "        int numero;\n",
    "\n",
    "        Console.WriteLine(\"Ingrese números para sumar. Ingrese un número negativo para terminar.\");\n",
    "\n",
    "        while (true)\n",
    "        {\n",
    "            numero = int.Parse(Console.ReadLine());\n",
    "            if (numero < 0)\n",
    "            {\n",
    "                break;\n",
    "            }\n",
    "            suma += numero;\n",
    "        }\n",
    "\n",
    "        Console.WriteLine($\"La suma total es: {suma}\");\n",
    " "
   ]
  },
  {
   "cell_type": "markdown",
   "id": "fe77706a-b65b-4124-aef0-cb4768387551",
   "metadata": {},
   "source": [
    "## Bucle `do-while`\n",
    "\n",
    "El bucle `do-while` es similar al `while`, pero se ejecuta al menos una vez, ya que la condición se verifica al final del bucle.\n",
    "\n",
    "### Ejemplo: Solicitar contraseña hasta que sea correcta\n",
    "\n",
    "### Explicación paso a paso: \n",
    "1. Se define la contraseña correcta.\n",
    "2. Se utiliza un bucle `do-while` para solicitar la contraseña.\n",
    "3. El bucle se ejecuta al menos una vez y continúa hasta que la contraseña ingresada sea correcta.\n",
    "4. Cuando la contraseña es correcta, se imprime un mensaje de acceso permitido.\n",
    "\n",
    "```csharp\n",
    "using System;\n",
    "\n",
    "\n",
    "        string contraseñaCorrecta = \"1234\";\n",
    "        string contraseñaIngresada;\n",
    "\n",
    "        do\n",
    "        {\n",
    "            Console.WriteLine(\"Ingrese la contraseña:\");\n",
    "            contraseñaIngresada = Console.ReadLine();\n",
    "        } while (contraseñaIngresada != contraseñaCorrecta);\n",
    "\n",
    "        Console.WriteLine(\"Contraseña correcta. Acceso permitido.\");\n"
   ]
  },
  {
   "cell_type": "markdown",
   "id": "80441537-15f5-4d17-a119-6a582e6274e8",
   "metadata": {},
   "source": [
    "## Ejemplos:"
   ]
  },
  {
   "cell_type": "markdown",
   "id": "00a1ed0f-cce8-4a8e-80b8-31e519f15d9f",
   "metadata": {},
   "source": [
    "### Ejercicio 1: Imprimir los primeros N números naturales \n",
    "#### Resolución utilizando `for`"
   ]
  },
  {
   "cell_type": "code",
   "execution_count": 3,
   "id": "8779404a-51f8-49af-a90c-4db3877ed31e",
   "metadata": {},
   "outputs": [
    {
     "name": "stdout",
     "output_type": "stream",
     "text": [
      "1\n",
      "2\n",
      "3\n",
      "4\n",
      "5\n",
      "6\n",
      "7\n",
      "8\n",
      "9\n",
      "10\n"
     ]
    }
   ],
   "source": [
    "// Definir un número entero positivo N en FOR\n",
    "        int N = 10; // Puedes cambiar este valor según sea necesario\n",
    "\n",
    "        // Utilizar un bucle for para imprimir los primeros N números naturales\n",
    "        for (int i = 1; i <= N; i++)\n",
    "        {\n",
    "            Console.WriteLine(i);\n",
    "        }"
   ]
  },
  {
   "cell_type": "code",
   "execution_count": 2,
   "id": "fef7cac7-44de-4877-a641-9b229214740c",
   "metadata": {},
   "outputs": [
    {
     "name": "stdout",
     "output_type": "stream",
     "text": [
      "1\n",
      "2\n",
      "3\n",
      "4\n",
      "5\n",
      "6\n",
      "7\n",
      "8\n",
      "9\n",
      "10\n"
     ]
    }
   ],
   "source": [
    "     // Definir un número entero positivo N en WHILE\n",
    "        int N = 10; // Puedes cambiar este valor según sea necesario\n",
    "\n",
    "        // Inicializar una variable para controlar el bucle\n",
    "        int i = 1;\n",
    "\n",
    "        // Utilizar un bucle while para imprimir los primeros N números naturales\n",
    "        while (i <= N)\n",
    "        {\n",
    "            Console.WriteLine(i);\n",
    "            i++;\n",
    "        }"
   ]
  },
  {
   "cell_type": "code",
   "execution_count": 4,
   "id": "50dea0f0-9938-474f-b788-20e87ee3206d",
   "metadata": {},
   "outputs": [
    {
     "name": "stdout",
     "output_type": "stream",
     "text": [
      "1\n",
      "2\n",
      "3\n",
      "4\n",
      "5\n",
      "6\n",
      "7\n",
      "8\n",
      "9\n",
      "10\n"
     ]
    }
   ],
   "source": [
    "// Definir un número entero positivo N en Do While\n",
    "        int N = 10; // Puedes cambiar este valor según sea necesario\n",
    "\n",
    "        // Inicializar una variable para controlar el bucle\n",
    "        int i = 1;\n",
    "\n",
    "        // Utilizar un bucle do-while para imprimir los primeros N números naturales\n",
    "        do\n",
    "        {\n",
    "            Console.WriteLine(i);\n",
    "            i++;\n",
    "        } while (i <= N);"
   ]
  },
  {
   "cell_type": "code",
   "execution_count": null,
   "id": "d2d56285-903d-4b36-933a-1c68a20431eb",
   "metadata": {},
   "outputs": [],
   "source": []
  }
 ],
 "metadata": {
  "kernelspec": {
   "display_name": ".NET (C#)",
   "language": "C#",
   "name": ".net-csharp"
  },
  "language_info": {
   "file_extension": ".cs",
   "mimetype": "text/x-csharp",
   "name": "C#",
   "pygments_lexer": "csharp",
   "version": "12.0"
  }
 },
 "nbformat": 4,
 "nbformat_minor": 5
}
