{
 "cells": [
  {
   "cell_type": "markdown",
   "id": "f9f6a581-8bf2-4edc-a72b-6adf17daf6c7",
   "metadata": {},
   "source": [
    "# Fundamentos de la Programación\n",
    "\n",
    "## Variables y Tipos de Datos\n",
    "\n",
    "### Conceptos Básicos\n",
    "En programación, una **variable** es un espacio en la memoria del ordenador donde almacenamos datos que pueden cambiar durante la ejecución del programa.\n",
    "\n",
    "### Tipos de Datos\n",
    "Existen varios tipos de datos, entre los más comunes tenemos:\n",
    "- `int`: Enteros\n",
    "- `float`: Números decimales\n",
    "- `char`: Caracteres\n",
    "- `string`: Cadenas de texto\n",
    "- `bool`: Booleanos (verdadero o falso)\n",
    "\n",
    "### Declaración y Asignación de Variables\n",
    "Para declarar una variable en C#, utilizamos la siguiente sintaxis:\n",
    "\n",
    "```csharp\n",
    "int numero;\n",
    "float decimal;\n",
    "char letra;\n",
    "string texto;\n",
    "bool esVerdad;\n",
    "\n",
    "// ASIGNACIÓN DE VARIABLES DIRECTAS\n",
    "numero = 5;\n",
    "decimal = 3.14f;\n",
    "letra = 'A';\n",
    "texto = \"Hola, Mundo\";\n",
    "esVerdad = true;\n",
    "\n",
    "// DECLARACIÓN DE VARIABLES\n",
    "int edad = 25;\n",
    "float altura = 1.75f;\n",
    "char inicial = 'J';\n",
    "string nombre = \"Juan\";\n",
    "bool esEstudiante = true;"
   ]
  },
  {
   "cell_type": "code",
   "execution_count": 47,
   "id": "25c29ddf-873a-4996-bbbf-b0267e6351fa",
   "metadata": {},
   "outputs": [
    {
     "name": "stdout",
     "output_type": "stream",
     "text": [
      "Numero: 5\n",
      "Decimal: 3,14\n",
      "Letra: A\n",
      "Texto: Hola, Mundo\n",
      "Es verdad: True\n"
     ]
    }
   ],
   "source": [
    "// Declaración y asignación de variables\n",
    "        int numero = 5;\n",
    "        float decimales = 3.14f;\n",
    "        char letra = 'A';\n",
    "        string texto = \"Hola, Mundo\";\n",
    "        bool esVerdad = true;\n",
    "\n",
    "        // Imprimir valores\n",
    "        Console.WriteLine(\"Numero: \" + numero);\n",
    "        Console.WriteLine(\"Decimal: \" + decimales);\n",
    "        Console.WriteLine(\"Letra: \" + letra);\n",
    "        Console.WriteLine(\"Texto: \" + texto);\n",
    "        Console.WriteLine(\"Es verdad: \" + esVerdad);"
   ]
  },
  {
   "cell_type": "markdown",
   "id": "38433d42-a090-4470-bae8-633cfe7d12df",
   "metadata": {},
   "source": [
    "## Operadores Aritméticos y Lógicos\n",
    "\n",
    "### Operadores Aritméticos\n",
    "Los operadores aritméticos se utilizan para realizar operaciones matemáticas. En C#, los operadores aritméticos básicos son:\n",
    "\n",
    "- `+` : Suma\n",
    "- `-` : Resta\n",
    "- `*` : Multiplicación\n",
    "- `/` : División\n",
    "- `%` : Módulo (residuo de la división)\n",
    "\n",
    "Ejemplo:\n",
    "\n",
    "```csharp\n",
    "int suma = 5 + 3; // 8\n",
    "int resta = 5 - 3; // 2\n",
    "int multiplicacion = 5 * 3; // 15\n",
    "float division = 5.0f / 3.0f; // 1.6667\n",
    "int modulo = 5 % 3; // 2\n"
   ]
  },
  {
   "cell_type": "code",
   "execution_count": 7,
   "id": "3842952f-4e28-4080-937e-61a884262f47",
   "metadata": {},
   "outputs": [
    {
     "name": "stdout",
     "output_type": "stream",
     "text": [
      "Suma: 8\n",
      "Resta: 2\n",
      "Multiplicación: 15\n",
      "División: 1,6666666\n",
      "Módulo: 2\n"
     ]
    }
   ],
   "source": [
    "// Operadores aritméticos\n",
    "        int suma = 5 + 3;\n",
    "        int resta = 5 - 3;\n",
    "        int multiplicacion = 5 * 3;\n",
    "        float division = 5.0f / 3.0f;\n",
    "        int modulo = 5 % 3;\n",
    "\n",
    "        Console.WriteLine(\"Suma: \" + suma);\n",
    "        Console.WriteLine(\"Resta: \" + resta);\n",
    "        Console.WriteLine(\"Multiplicación: \" + multiplicacion);\n",
    "        Console.WriteLine(\"División: \" + division);\n",
    "        Console.WriteLine(\"Módulo: \" + modulo);"
   ]
  },
  {
   "cell_type": "markdown",
   "id": "fcc00502-96bd-4ddd-bf62-28e8d884697e",
   "metadata": {},
   "source": [
    "###  Operadores Lógicos Los operadores lógicos se utilizan para realizar operaciones booleanas. \n",
    "En C#, los operadores lógicos básicos son:\n",
    "- `&&` : AND lógico \n",
    "- `||` : OR lógico \n",
    "- `!` : NOT lógico”\n",
    "\n",
    "Ejemplo:\n",
    "\n",
    "```csharp\n",
    "bool a = true;\n",
    "bool b = false;\n",
    "\n",
    "bool and = a && b; // false\n",
    "bool or = a || b; // true\n",
    "bool not = !a; // false\n",
    "\n"
   ]
  },
  {
   "cell_type": "code",
   "execution_count": 5,
   "id": "255a97f4-b9fa-4af2-a195-8c3cf4b3be01",
   "metadata": {},
   "outputs": [
    {
     "name": "stdout",
     "output_type": "stream",
     "text": [
      "AND lógico: False\n",
      "OR lógico: True\n",
      "NOT lógico: False\n"
     ]
    }
   ],
   "source": [
    " // Operadores lógicos\n",
    "        bool a = true;\n",
    "        bool b = false;\n",
    "\n",
    "        bool and = a && b;\n",
    "        bool or = a || b;\n",
    "        bool not = !a;\n",
    "\n",
    "        Console.WriteLine(\"AND lógico: \" + and);\n",
    "        Console.WriteLine(\"OR lógico: \" + or);\n",
    "        Console.WriteLine(\"NOT lógico: \" + not);"
   ]
  },
  {
   "cell_type": "markdown",
   "id": "ccff1193-6518-4285-9aa3-f5c21cb330b1",
   "metadata": {},
   "source": [
    "### Operadores Relacionales Los operadores relacionales se utilizan para comparar valores. \n",
    "En C#, los operadores relacionales básicos son: \n",
    "* `==` : Igual a\n",
    "* `!=` : Distinto de (not)\n",
    "* `>` : Mayor que\n",
    "* `<` : Menor que\n",
    "* `>=` : Mayor o igual que\n",
    "* `<=` : Menor o igual que”\n",
    "\n",
    "Ejemplo\n",
    "\n",
    "```csharp\n",
    "bool not = !a; // false\n",
    "bool igual = a == b; // false\n",
    "bool distinto = a != b; // true\n",
    "bool mayor = a > b; // true\n",
    "bool menor = a < b; // false\n",
    "bool mayorOIgual = a >= b; // true\n",
    "bool menorOIgual = a <= b; // false\n",
    "       "
   ]
  },
  {
   "cell_type": "code",
   "execution_count": 3,
   "id": "7b5d597d-1e97-4136-9fcd-7f3d50af8c5c",
   "metadata": {},
   "outputs": [],
   "source": [
    "// Operadores Relacionales\n",
    "int a = 5;\n",
    "int b = 3;\n",
    "\n",
    "bool igual = a == b; // false\n",
    "bool distinto = a != b; // true\n",
    "bool mayor = a > b; // true\n",
    "bool menor = a < b; // false\n",
    "bool mayorOIgual = a >= b; // true\n",
    "bool menorOIgual = a <= b; // false\n",
    "       "
   ]
  },
  {
   "cell_type": "markdown",
   "id": "05b73a63-c98d-4809-8d89-97bf62e973fc",
   "metadata": {},
   "source": [
    "## RESUMEN EN CODIGO\n",
    "#### Código de Ejemplo en C#\n",
    "\n",
    "```csharp\n",
    "using System;\n",
    "\n",
    "public class Programa\n",
    "{\n",
    "    public static void Main()\n",
    "    {\n",
    "        // Operadores aritméticos\n",
    "        int suma = 5 + 3;\n",
    "        int resta = 5 - 3;\n",
    "        int multiplicacion = 5 * 3;\n",
    "        float division = 5.0f / 3.0f;\n",
    "        int modulo = 5 % 3;\n",
    "\n",
    "        Console.WriteLine(\"Suma: \" + suma);\n",
    "        Console.WriteLine(\"Resta: \" + resta);\n",
    "        Console.WriteLine(\"Multiplicación: \" + multiplicacion);\n",
    "        Console.WriteLine(\"División: \" + division);\n",
    "        Console.WriteLine(\"Módulo: \" + modulo);\n",
    "\n",
    "        // Operadores relacionales\n",
    "        int a = 5;\n",
    "        int b = 3;\n",
    "\n",
    "        bool igual = a == b;\n",
    "        bool distinto = a != b;\n",
    "        bool mayor = a > b;\n",
    "        bool menor = a < b;\n",
    "        bool mayorOIgual = a >= b;\n",
    "        bool menorOIgual = a <= b;\n",
    "\n",
    "        Console.WriteLine(\"Igual: \" + igual);\n",
    "        Console.WriteLine(\"Distinto: \" + distinto);\n",
    "        Console.WriteLine(\"Mayor: \" + mayor);\n",
    "        Console.WriteLine(\"Menor: \" + menor);\n",
    "        Console.WriteLine(\"Mayor o Igual: \" + mayorOIgual);\n",
    "        Console.WriteLine(\"Menor o Igual: \" + menorOIgual);\n",
    "\n",
    "        // Operadores lógicos\n",
    "        bool c = true;\n",
    "        bool d = false;\n",
    "\n",
    "        bool and = c && d;\n",
    "        bool or = c || d;\n",
    "        bool not = !c;\n",
    "\n",
    "        Console.WriteLine(\"AND lógico: \" + and);\n",
    "        Console.WriteLine(\"OR lógico: \" + or);\n",
    "        Console.WriteLine(\"NOT lógico: \" + not);\n",
    "    }\n",
    "}"
   ]
  },
  {
   "cell_type": "code",
   "execution_count": null,
   "id": "d54e5205-5db1-4419-9d75-bef31bc148b1",
   "metadata": {},
   "outputs": [],
   "source": []
  }
 ],
 "metadata": {
  "kernelspec": {
   "display_name": ".NET (C#)",
   "language": "C#",
   "name": ".net-csharp"
  },
  "language_info": {
   "file_extension": ".cs",
   "mimetype": "text/x-csharp",
   "name": "C#",
   "pygments_lexer": "csharp",
   "version": "12.0"
  }
 },
 "nbformat": 4,
 "nbformat_minor": 5
}
